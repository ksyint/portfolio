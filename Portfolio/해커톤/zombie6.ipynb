{
  "cells": [
    {
      "cell_type": "code",
      "execution_count": null,
      "metadata": {
        "colab": {
          "base_uri": "https://localhost:8080/",
          "height": 374
        },
        "id": "1oENxNsv_fj0",
        "outputId": "45a49956-2574-42d1-cdb7-6266a1239e51"
      },
      "outputs": [
        {
          "ename": "",
          "evalue": "",
          "output_type": "error",
          "traceback": [
            "\u001b[1;31m'Python 3.9.7 64-bit'(으)로 셀을 실행하려면 ipykernel 패키지가 필요합니다.\n",
            "\u001b[1;31m다음 명령어를 실행하여 Python 환경에 'ipykernel'을(를) 설치합니다. \n",
            "\u001b[1;31m 명령: 'c:/Users/kjhin/AppData/Local/Programs/Python/Python39/python.exe -m pip install ipykernel -U --user --force-reinstall'"
          ]
        }
      ],
      "source": [
        "\n",
        "# dataset = pd.read_csv('/bin/zombies.csv')\n",
        "\n",
        "import pandas as pd\n",
        "import numpy as np\n",
        "import seaborn as sns\n",
        "from sklearn.tree import DecisionTreeClassifier\n",
        "from sklearn.tree import DecisionTreeRegressor\n",
        "from sklearn.linear_model import LogisticRegression\n",
        "from sklearn.ensemble import RandomForestClassifier\n",
        "\n",
        "from lightgbm import LGBMClassifier\n",
        "\n",
        "from sklearn.metrics import roc_auc_score\n",
        "from sklearn.model_selection import cross_val_score\n",
        "from sklearn.model_selection import GridSearchCV\n",
        "from tensorflow.keras.wrappers.scikit_learn import KerasClassifier\n",
        "from keras.callbacks import EarlyStopping\n",
        "\n",
        "import matplotlib.pyplot as plt\n",
        "import seaborn as sns\n",
        "\n",
        "import warnings\n",
        "warnings.filterwarnings(\"ignore\")\n",
        "\n",
        "train = pd.read_csv('/bin/zombies.csv')\n",
        "test = pd.read_csv('/bin/zombies.csv')\n",
        "train.head()"
      ]
    },
    {
      "cell_type": "code",
      "execution_count": null,
      "metadata": {
        "colab": {
          "base_uri": "https://localhost:8080/"
        },
        "id": "ONaDEjZeEOSz",
        "outputId": "547e7efb-b3b0-43ce-afde-046f50d60d24"
      },
      "outputs": [
        {
          "ename": "",
          "evalue": "",
          "output_type": "error",
          "traceback": [
            "\u001b[1;31m'Python 3.9.7 64-bit'(으)로 셀을 실행하려면 ipykernel 패키지가 필요합니다.\n",
            "\u001b[1;31m다음 명령어를 실행하여 Python 환경에 'ipykernel'을(를) 설치합니다. \n",
            "\u001b[1;31m 명령: 'c:/Users/kjhin/AppData/Local/Programs/Python/Python39/python.exe -m pip install ipykernel -U --user --force-reinstall'"
          ]
        }
      ],
      "source": [
        "train.info()\n"
      ]
    },
    {
      "cell_type": "code",
      "execution_count": null,
      "metadata": {
        "colab": {
          "base_uri": "https://localhost:8080/"
        },
        "id": "JAHzMsG4_gAq",
        "outputId": "d289762f-d73c-4969-a668-e519261b4dc6"
      },
      "outputs": [
        {
          "ename": "",
          "evalue": "",
          "output_type": "error",
          "traceback": [
            "\u001b[1;31m'Python 3.9.7 64-bit'(으)로 셀을 실행하려면 ipykernel 패키지가 필요합니다.\n",
            "\u001b[1;31m다음 명령어를 실행하여 Python 환경에 'ipykernel'을(를) 설치합니다. \n",
            "\u001b[1;31m 명령: 'c:/Users/kjhin/AppData/Local/Programs/Python/Python39/python.exe -m pip install ipykernel -U --user --force-reinstall'"
          ]
        }
      ],
      "source": [
        "test.isnull().sum()\n"
      ]
    },
    {
      "cell_type": "code",
      "execution_count": null,
      "metadata": {
        "id": "MfTjLyMZ_gC_"
      },
      "outputs": [
        {
          "ename": "",
          "evalue": "",
          "output_type": "error",
          "traceback": [
            "\u001b[1;31m'Python 3.9.7 64-bit'(으)로 셀을 실행하려면 ipykernel 패키지가 필요합니다.\n",
            "\u001b[1;31m다음 명령어를 실행하여 Python 환경에 'ipykernel'을(를) 설치합니다. \n",
            "\u001b[1;31m 명령: 'c:/Users/kjhin/AppData/Local/Programs/Python/Python39/python.exe -m pip install ipykernel -U --user --force-reinstall'"
          ]
        }
      ],
      "source": [
        "train['clothing'] = train['clothing'].fillna('no') #최빈값\n",
        "train['documents'] = train['documents'].fillna('no') #최빈값\n",
        "test['clothing'] = test['clothing'].fillna('no') #최빈값\n",
        "test['documents'] = test['documents'].fillna('no') #최빈값\n",
        "\n",
        "train = train.drop(['zombieid'], axis = 1)\n",
        "test = test.drop(['zombieid'], axis = 1)\n"
      ]
    },
    {
      "cell_type": "code",
      "execution_count": null,
      "metadata": {
        "colab": {
          "base_uri": "https://localhost:8080/",
          "height": 206
        },
        "id": "Tjp4fxYC_gFE",
        "outputId": "645283b2-882b-4f40-86a9-4f9d864a96c8"
      },
      "outputs": [
        {
          "ename": "",
          "evalue": "",
          "output_type": "error",
          "traceback": [
            "\u001b[1;31m'Python 3.9.7 64-bit'(으)로 셀을 실행하려면 ipykernel 패키지가 필요합니다.\n",
            "\u001b[1;31m다음 명령어를 실행하여 Python 환경에 'ipykernel'을(를) 설치합니다. \n",
            "\u001b[1;31m 명령: 'c:/Users/kjhin/AppData/Local/Programs/Python/Python39/python.exe -m pip install ipykernel -U --user --force-reinstall'"
          ]
        }
      ],
      "source": [
        "\n",
        "train['zombie'] = train['zombie'].map({'Human' : 0, 'Zombie' : 1})\n",
        "test['zombie'] = test['zombie'].map({'Human' : 0, 'Zombie' : 1})\n",
        "\n",
        "train['sex'] = train['sex'].map({'Male' : 0, 'Female' : 1})\n",
        "test['sex'] = test['sex'].map({'Male' : 0, 'Female' : 1})\n",
        "\n",
        "\n",
        "train['rurality'] = train['rurality'].map({'Rural' : 0, 'Urban' : 1,'Suburban':2}) \n",
        "test['rurality'] = test['rurality'].map({'Rural' : 0, 'Urban' : 1,'Suburban':2})\n",
        "\n",
        "train['food'] = train['food'].map({'No food' : 0, 'Food' : 1})\n",
        "test['food'] = test['food'].map({'No food' : 0, 'Food' : 1})\n",
        "\n",
        "train['medication'] = train['medication'].map({'No medication' : 0, 'Medication' : 1})\n",
        "test['medication'] = test['medication'].map({'No medication' : 0, 'Medication' : 1})\n",
        "\n",
        "train['tools'] = train['tools'].map({'No tools' : 0, 'tools' : 1})\n",
        "test['tools'] = test['tools'].map({'No tools' : 0, 'tools' : 1})\n",
        "\n",
        "train['firstaid'] = train['firstaid'].map({'No first aid supplies' : 0, 'First aid supplies' : 1})\n",
        "test['firstaid'] = test['firstaid'].map({'No first aid supplies' : 0, 'First aid supplies' : 1})\n",
        "\n",
        "train['sanitation'] = train['sanitation'].map({'No sanitation' : 0, 'Sanitation' : 1})\n",
        "test['sanitation'] = test['sanitation'].map({'No sanitation' : 0, 'Sanitation' : 1})\n",
        "\n",
        "\n",
        "#'no' : 0,\n",
        "train['clothing'] = train['clothing'].map({'no' : 0,'Clothing' : 1})\n",
        "test['clothing'] = test['clothing'].map({'no' : 0,'Clothing' : 1})\n",
        "\n",
        "train['documents'] = train['documents'].map({'no' : 0,'Documents' : 1})\n",
        "test['documents'] = test['documents'].map({'no' : 0,'Documents' : 1})\n",
        "\n",
        "\n",
        "train_x = train[['sex','food','medication','tools', 'firstaid','sanitation', 'clothing', 'documents']]\n",
        "train_y = train['zombie']\n",
        "\n",
        "\n",
        "test_x = test[['sex','food','medication','tools', 'firstaid','sanitation', 'clothing', 'documents']]\n",
        "test_y = test['zombie']\n",
        "\n",
        "train.head()"
      ]
    },
    {
      "cell_type": "code",
      "execution_count": null,
      "metadata": {
        "colab": {
          "base_uri": "https://localhost:8080/"
        },
        "id": "0M-nI19_PDYE",
        "outputId": "5afde607-7054-42a2-908f-c044cafd93b3"
      },
      "outputs": [
        {
          "ename": "",
          "evalue": "",
          "output_type": "error",
          "traceback": [
            "\u001b[1;31m'Python 3.9.7 64-bit'(으)로 셀을 실행하려면 ipykernel 패키지가 필요합니다.\n",
            "\u001b[1;31m다음 명령어를 실행하여 Python 환경에 'ipykernel'을(를) 설치합니다. \n",
            "\u001b[1;31m 명령: 'c:/Users/kjhin/AppData/Local/Programs/Python/Python39/python.exe -m pip install ipykernel -U --user --force-reinstall'"
          ]
        }
      ],
      "source": [
        "from sklearn.model_selection import train_test_split\n",
        "\n",
        "X=train[['sex','food','medication','tools', 'firstaid','sanitation', 'clothing', 'documents']]  #독립 변수 X\n",
        "\n",
        "y=train['zombie']                      #종속 변수 Y\n",
        "\n",
        "# 설명 변수 데이터를 정규화(normalization)\n",
        "\n",
        "from sklearn import preprocessing\n",
        "\n",
        "X = preprocessing.StandardScaler().fit(X).transform(X)\n",
        "train_x, test_x, train_y, test_y = train_test_split(X, y, test_size=0.2, random_state=14) \n",
        "\n",
        "print('train data 개수: ', train_x.shape)\n",
        "\n",
        "print('test data 개수: ', test_x.shape)\n",
        "\n"
      ]
    },
    {
      "cell_type": "code",
      "execution_count": null,
      "metadata": {
        "colab": {
          "base_uri": "https://localhost:8080/"
        },
        "id": "yml_i6WhRMEq",
        "outputId": "93eb1a45-8ae9-4fcc-b387-83db5130e2e6"
      },
      "outputs": [
        {
          "ename": "",
          "evalue": "",
          "output_type": "error",
          "traceback": [
            "\u001b[1;31m'Python 3.9.7 64-bit'(으)로 셀을 실행하려면 ipykernel 패키지가 필요합니다.\n",
            "\u001b[1;31m다음 명령어를 실행하여 Python 환경에 'ipykernel'을(를) 설치합니다. \n",
            "\u001b[1;31m 명령: 'c:/Users/kjhin/AppData/Local/Programs/Python/Python39/python.exe -m pip install ipykernel -U --user --force-reinstall'"
          ]
        }
      ],
      "source": [
        "import pandas as pd\n",
        "import numpy as np\n",
        "from sklearn.datasets import load_breast_cancer\n",
        "from sklearn.model_selection import train_test_split\n",
        "\n",
        "from sklearn.metrics import confusion_matrix, accuracy_score, precision_score, recall_score, f1_score, roc_auc_score\n",
        "# def get_clf_eval0(y_test, pred=None, pred_proba=None):\n",
        "#     print('오차행렬 \\n', confusion_matrix(y_test, pred))\n",
        "#     print('정확도 :', accuracy_score(y_test, pred))\n",
        "#     print('정밀도 : ',precision_score(y_test, pred))\n",
        "#     print('재현율 :', recall_score(y_test, pred))\n",
        "#     print('f1 score :', f1_score(y_test, pred))\n",
        "#     print('roc auc score :', roc_auc_score(y_test, pred_proba))\n",
        "\n",
        "# def get_model_train_eval(model, ftr_train = None, ftr_test = None, tgt_train=None, tgt_test=None):\n",
        "#     model.fit(ftr_train, tgt_train)\n",
        "#     pred = model.predict(ftr_test)\n",
        "#     pred_proba = model.predict_proba(ftr_test)[:,1]\n",
        "#     get_clf_eval(tgt_test, pred, pred_proba)\n",
        "\n",
        "lgbm_wrapper = LGBMClassifier(n_estimators=400)\n",
        "\n",
        "# LightGBM도 XGBoost와 동일하게 조기 중단 수행 가능. \n",
        "evals = [(test_x, test_y)]\n",
        "lgbm_wrapper.fit(train_x, train_y, early_stopping_rounds=100, eval_metric=\"logloss\", \n",
        "                 eval_set=evals, verbose=True)\n",
        "preds = lgbm_wrapper.predict(test_x)\n",
        "pred_proba = lgbm_wrapper.predict_proba(test_x)[:, 1]\n"
      ]
    },
    {
      "cell_type": "code",
      "execution_count": null,
      "metadata": {
        "colab": {
          "base_uri": "https://localhost:8080/"
        },
        "id": "tI8X_kCWR909",
        "outputId": "9f0d33d9-857c-429d-dee6-edfdb85045f0"
      },
      "outputs": [
        {
          "ename": "",
          "evalue": "",
          "output_type": "error",
          "traceback": [
            "\u001b[1;31m'Python 3.9.7 64-bit'(으)로 셀을 실행하려면 ipykernel 패키지가 필요합니다.\n",
            "\u001b[1;31m다음 명령어를 실행하여 Python 환경에 'ipykernel'을(를) 설치합니다. \n",
            "\u001b[1;31m 명령: 'c:/Users/kjhin/AppData/Local/Programs/Python/Python39/python.exe -m pip install ipykernel -U --user --force-reinstall'"
          ]
        }
      ],
      "source": [
        "from sklearn.metrics import confusion_matrix, accuracy_score\n",
        "from sklearn.metrics import precision_score, recall_score\n",
        "from sklearn.metrics import f1_score, roc_auc_score\n",
        "\n",
        "def get_clf_eval(y_test, pred=None, pred_proba=None):\n",
        "    confusion = confusion_matrix( y_test, pred)\n",
        "    accuracy = accuracy_score(y_test , pred)\n",
        "    precision = precision_score(y_test , pred)\n",
        "    recall = recall_score(y_test , pred)\n",
        "    f1 = f1_score(y_test,pred)\n",
        "    # ROC-AUC 추가 \n",
        "    roc_auc = roc_auc_score(y_test, pred_proba)\n",
        "    print('오차 행렬')\n",
        "    print(confusion)\n",
        "    # ROC-AUC print 추가\n",
        "    print('정확도: {0:.4f}, 정밀도: {1:.4f}, 재현율: {2:.4f},\\\n",
        "    F1: {3:.4f}, AUC:{4:.4f}'.format(accuracy, precision, recall, f1, roc_auc))\n",
        "\n",
        "\n",
        "get_clf_eval(test_y, preds, pred_proba)\n",
        "\n"
      ]
    },
    {
      "cell_type": "code",
      "execution_count": null,
      "metadata": {
        "id": "zur9lWTdiBE-"
      },
      "outputs": [
        {
          "ename": "",
          "evalue": "",
          "output_type": "error",
          "traceback": [
            "\u001b[1;31m'Python 3.9.7 64-bit'(으)로 셀을 실행하려면 ipykernel 패키지가 필요합니다.\n",
            "\u001b[1;31m다음 명령어를 실행하여 Python 환경에 'ipykernel'을(를) 설치합니다. \n",
            "\u001b[1;31m 명령: 'c:/Users/kjhin/AppData/Local/Programs/Python/Python39/python.exe -m pip install ipykernel -U --user --force-reinstall'"
          ]
        }
      ],
      "source": []
    },
    {
      "cell_type": "code",
      "execution_count": null,
      "metadata": {
        "id": "d-mgIv_xhmCC"
      },
      "outputs": [
        {
          "ename": "",
          "evalue": "",
          "output_type": "error",
          "traceback": [
            "\u001b[1;31m'Python 3.9.7 64-bit'(으)로 셀을 실행하려면 ipykernel 패키지가 필요합니다.\n",
            "\u001b[1;31m다음 명령어를 실행하여 Python 환경에 'ipykernel'을(를) 설치합니다. \n",
            "\u001b[1;31m 명령: 'c:/Users/kjhin/AppData/Local/Programs/Python/Python39/python.exe -m pip install ipykernel -U --user --force-reinstall'"
          ]
        }
      ],
      "source": [
        "import joblib\n",
        "\n",
        "model=lgbm_wrapper\n",
        "joblib.dump(model,'/bin/prediction2.pkl')\n",
        "load_model=joblib.load('/bin/prediction2.pkl')\n"
      ]
    }
  ],
  "metadata": {
    "colab": {
      "collapsed_sections": [],
      "name": "zombie.ipynb",
      "provenance": []
    },
    "kernelspec": {
      "display_name": "Python 3.9.7 64-bit",
      "language": "python",
      "name": "python3"
    },
    "language_info": {
      "name": "python",
      "version": "3.9.7"
    },
    "vscode": {
      "interpreter": {
        "hash": "45d0d00e932a2ea899cb42863002ee7f47480eb2961c65c813d12afaf704cf5a"
      }
    }
  },
  "nbformat": 4,
  "nbformat_minor": 0
}
